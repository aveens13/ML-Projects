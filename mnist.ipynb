{
  "nbformat": 4,
  "nbformat_minor": 0,
  "metadata": {
    "colab": {
      "provenance": [],
      "authorship_tag": "ABX9TyPqDQs0J7j0LSQaTNnUPFqi",
      "include_colab_link": true
    },
    "kernelspec": {
      "name": "python3",
      "display_name": "Python 3"
    },
    "language_info": {
      "name": "python"
    }
  },
  "cells": [
    {
      "cell_type": "markdown",
      "metadata": {
        "id": "view-in-github",
        "colab_type": "text"
      },
      "source": [
        "<a href=\"https://colab.research.google.com/github/aveens13/ML-Projects/blob/main/mnist.ipynb\" target=\"_parent\"><img src=\"https://colab.research.google.com/assets/colab-badge.svg\" alt=\"Open In Colab\"/></a>"
      ]
    },
    {
      "cell_type": "code",
      "execution_count": null,
      "metadata": {
        "id": "-45TMLQi66Ej"
      },
      "outputs": [],
      "source": [
        "import numpy as np\n",
        "import pandas as pd\n",
        "from matplotlib import pyplot as plt"
      ]
    },
    {
      "cell_type": "code",
      "source": [
        "from google.colab import files\n",
        "file_data = files.upload()\n",
        "!mkdir -p ~/.kaggle && mv kaggle.json ~/.kaggle/ && chmod 600 ~/.kaggle/kaggle.json"
      ],
      "metadata": {
        "colab": {
          "base_uri": "https://localhost:8080/",
          "height": 72
        },
        "id": "rZFjc1vW7J_m",
        "outputId": "d9f693b2-4835-47fb-ebcc-dee9a8ab4f21"
      },
      "execution_count": null,
      "outputs": [
        {
          "output_type": "display_data",
          "data": {
            "text/plain": [
              "<IPython.core.display.HTML object>"
            ],
            "text/html": [
              "\n",
              "     <input type=\"file\" id=\"files-8cdb793d-09a5-4fc0-bad1-7e9fda5ef2d9\" name=\"files[]\" multiple disabled\n",
              "        style=\"border:none\" />\n",
              "     <output id=\"result-8cdb793d-09a5-4fc0-bad1-7e9fda5ef2d9\">\n",
              "      Upload widget is only available when the cell has been executed in the\n",
              "      current browser session. Please rerun this cell to enable.\n",
              "      </output>\n",
              "      <script>// Copyright 2017 Google LLC\n",
              "//\n",
              "// Licensed under the Apache License, Version 2.0 (the \"License\");\n",
              "// you may not use this file except in compliance with the License.\n",
              "// You may obtain a copy of the License at\n",
              "//\n",
              "//      http://www.apache.org/licenses/LICENSE-2.0\n",
              "//\n",
              "// Unless required by applicable law or agreed to in writing, software\n",
              "// distributed under the License is distributed on an \"AS IS\" BASIS,\n",
              "// WITHOUT WARRANTIES OR CONDITIONS OF ANY KIND, either express or implied.\n",
              "// See the License for the specific language governing permissions and\n",
              "// limitations under the License.\n",
              "\n",
              "/**\n",
              " * @fileoverview Helpers for google.colab Python module.\n",
              " */\n",
              "(function(scope) {\n",
              "function span(text, styleAttributes = {}) {\n",
              "  const element = document.createElement('span');\n",
              "  element.textContent = text;\n",
              "  for (const key of Object.keys(styleAttributes)) {\n",
              "    element.style[key] = styleAttributes[key];\n",
              "  }\n",
              "  return element;\n",
              "}\n",
              "\n",
              "// Max number of bytes which will be uploaded at a time.\n",
              "const MAX_PAYLOAD_SIZE = 100 * 1024;\n",
              "\n",
              "function _uploadFiles(inputId, outputId) {\n",
              "  const steps = uploadFilesStep(inputId, outputId);\n",
              "  const outputElement = document.getElementById(outputId);\n",
              "  // Cache steps on the outputElement to make it available for the next call\n",
              "  // to uploadFilesContinue from Python.\n",
              "  outputElement.steps = steps;\n",
              "\n",
              "  return _uploadFilesContinue(outputId);\n",
              "}\n",
              "\n",
              "// This is roughly an async generator (not supported in the browser yet),\n",
              "// where there are multiple asynchronous steps and the Python side is going\n",
              "// to poll for completion of each step.\n",
              "// This uses a Promise to block the python side on completion of each step,\n",
              "// then passes the result of the previous step as the input to the next step.\n",
              "function _uploadFilesContinue(outputId) {\n",
              "  const outputElement = document.getElementById(outputId);\n",
              "  const steps = outputElement.steps;\n",
              "\n",
              "  const next = steps.next(outputElement.lastPromiseValue);\n",
              "  return Promise.resolve(next.value.promise).then((value) => {\n",
              "    // Cache the last promise value to make it available to the next\n",
              "    // step of the generator.\n",
              "    outputElement.lastPromiseValue = value;\n",
              "    return next.value.response;\n",
              "  });\n",
              "}\n",
              "\n",
              "/**\n",
              " * Generator function which is called between each async step of the upload\n",
              " * process.\n",
              " * @param {string} inputId Element ID of the input file picker element.\n",
              " * @param {string} outputId Element ID of the output display.\n",
              " * @return {!Iterable<!Object>} Iterable of next steps.\n",
              " */\n",
              "function* uploadFilesStep(inputId, outputId) {\n",
              "  const inputElement = document.getElementById(inputId);\n",
              "  inputElement.disabled = false;\n",
              "\n",
              "  const outputElement = document.getElementById(outputId);\n",
              "  outputElement.innerHTML = '';\n",
              "\n",
              "  const pickedPromise = new Promise((resolve) => {\n",
              "    inputElement.addEventListener('change', (e) => {\n",
              "      resolve(e.target.files);\n",
              "    });\n",
              "  });\n",
              "\n",
              "  const cancel = document.createElement('button');\n",
              "  inputElement.parentElement.appendChild(cancel);\n",
              "  cancel.textContent = 'Cancel upload';\n",
              "  const cancelPromise = new Promise((resolve) => {\n",
              "    cancel.onclick = () => {\n",
              "      resolve(null);\n",
              "    };\n",
              "  });\n",
              "\n",
              "  // Wait for the user to pick the files.\n",
              "  const files = yield {\n",
              "    promise: Promise.race([pickedPromise, cancelPromise]),\n",
              "    response: {\n",
              "      action: 'starting',\n",
              "    }\n",
              "  };\n",
              "\n",
              "  cancel.remove();\n",
              "\n",
              "  // Disable the input element since further picks are not allowed.\n",
              "  inputElement.disabled = true;\n",
              "\n",
              "  if (!files) {\n",
              "    return {\n",
              "      response: {\n",
              "        action: 'complete',\n",
              "      }\n",
              "    };\n",
              "  }\n",
              "\n",
              "  for (const file of files) {\n",
              "    const li = document.createElement('li');\n",
              "    li.append(span(file.name, {fontWeight: 'bold'}));\n",
              "    li.append(span(\n",
              "        `(${file.type || 'n/a'}) - ${file.size} bytes, ` +\n",
              "        `last modified: ${\n",
              "            file.lastModifiedDate ? file.lastModifiedDate.toLocaleDateString() :\n",
              "                                    'n/a'} - `));\n",
              "    const percent = span('0% done');\n",
              "    li.appendChild(percent);\n",
              "\n",
              "    outputElement.appendChild(li);\n",
              "\n",
              "    const fileDataPromise = new Promise((resolve) => {\n",
              "      const reader = new FileReader();\n",
              "      reader.onload = (e) => {\n",
              "        resolve(e.target.result);\n",
              "      };\n",
              "      reader.readAsArrayBuffer(file);\n",
              "    });\n",
              "    // Wait for the data to be ready.\n",
              "    let fileData = yield {\n",
              "      promise: fileDataPromise,\n",
              "      response: {\n",
              "        action: 'continue',\n",
              "      }\n",
              "    };\n",
              "\n",
              "    // Use a chunked sending to avoid message size limits. See b/62115660.\n",
              "    let position = 0;\n",
              "    do {\n",
              "      const length = Math.min(fileData.byteLength - position, MAX_PAYLOAD_SIZE);\n",
              "      const chunk = new Uint8Array(fileData, position, length);\n",
              "      position += length;\n",
              "\n",
              "      const base64 = btoa(String.fromCharCode.apply(null, chunk));\n",
              "      yield {\n",
              "        response: {\n",
              "          action: 'append',\n",
              "          file: file.name,\n",
              "          data: base64,\n",
              "        },\n",
              "      };\n",
              "\n",
              "      let percentDone = fileData.byteLength === 0 ?\n",
              "          100 :\n",
              "          Math.round((position / fileData.byteLength) * 100);\n",
              "      percent.textContent = `${percentDone}% done`;\n",
              "\n",
              "    } while (position < fileData.byteLength);\n",
              "  }\n",
              "\n",
              "  // All done.\n",
              "  yield {\n",
              "    response: {\n",
              "      action: 'complete',\n",
              "    }\n",
              "  };\n",
              "}\n",
              "\n",
              "scope.google = scope.google || {};\n",
              "scope.google.colab = scope.google.colab || {};\n",
              "scope.google.colab._files = {\n",
              "  _uploadFiles,\n",
              "  _uploadFilesContinue,\n",
              "};\n",
              "})(self);\n",
              "</script> "
            ]
          },
          "metadata": {}
        },
        {
          "output_type": "stream",
          "name": "stdout",
          "text": [
            "Saving kaggle.json to kaggle.json\n"
          ]
        }
      ]
    },
    {
      "cell_type": "code",
      "source": [
        "!kaggle competitions download -c digit-recognizer\n",
        "import zipfile\n",
        "z = zipfile.ZipFile('digit-recognizer.zip')\n",
        "z.extractall()"
      ],
      "metadata": {
        "colab": {
          "base_uri": "https://localhost:8080/"
        },
        "id": "LE_quFwO-DMj",
        "outputId": "80aacd51-40ea-492f-f02d-a58d6cf56ea8"
      },
      "execution_count": null,
      "outputs": [
        {
          "output_type": "stream",
          "name": "stdout",
          "text": [
            "Downloading digit-recognizer.zip to /content\n",
            " 98% 15.0M/15.3M [00:01<00:00, 22.1MB/s]\n",
            "100% 15.3M/15.3M [00:01<00:00, 13.0MB/s]\n"
          ]
        }
      ]
    },
    {
      "cell_type": "code",
      "source": [
        "train = pd.read_csv('train.csv')"
      ],
      "metadata": {
        "id": "1bzb6RLS-KgO"
      },
      "execution_count": null,
      "outputs": []
    },
    {
      "cell_type": "code",
      "source": [
        "data = np.array(train)\n",
        "m, n = data.shape \n",
        "np.random.shuffle(data)\n",
        "\n",
        "data_dev = data[0:1000].T\n",
        "Y_dev = data_dev[0]\n",
        "X_dev = data_dev[1:n]\n",
        "X_dev = X_dev / 255\n",
        "\n",
        "data_train = data[1000:m].T\n",
        "Y_Train = data_train[0]\n",
        "X_Train = data_train[1:n] \n",
        "X_Train = X_Train / 255\n",
        "_, m_train = X_Train.shape"
      ],
      "metadata": {
        "id": "GUMxXmkwoi7W"
      },
      "execution_count": null,
      "outputs": []
    },
    {
      "cell_type": "code",
      "source": [
        "def init_params():\n",
        "  W1 = np.random.rand(10,784) - 0.5\n",
        "  b1 = np.random.rand(10, 1) - 0.5\n",
        "  W2 = np.random.rand(10,10) - 0.5\n",
        "  b2 = np.random.rand(10, 1) - 0.5\n",
        "  return W1, b1, W2, b2\n",
        "\n",
        "def ReLU(Z):\n",
        "  return np.maximum(Z, 0)\n",
        "\n",
        "def softmax(Z):\n",
        "  A =  np.exp(Z) / sum(np.exp(Z))\n",
        "  return A\n",
        "\n",
        "def forward_prop(W1, b1, W2, b2, X):\n",
        "  Z1 = W1.dot(X) + b1\n",
        "  A1 = ReLU(Z1)\n",
        "  Z2 = W2.dot(A1) + b2\n",
        "  A2 = softmax(Z2)\n",
        "  return Z1, A1, Z2, A2\n",
        "\n",
        "def one_hot(Y):\n",
        "  one_hot_Y = np.zeros((Y.size, Y.max()+ 1))\n",
        "  one_hot_Y[np.arange(Y.size), Y] = 1\n",
        "  one_hot_Y = one_hot_Y.T\n",
        "  return one_hot_Y\n",
        "\n",
        "def deriv_ReLU(Z):\n",
        "  return Z > 0\n",
        "\n",
        "def back_prop(Z1, A1, Z2, A2, W2, X, Y):\n",
        "  m = Y.size\n",
        "  one_hot_Y = one_hot(Y)\n",
        "  dZ2 = A2 - one_hot_Y\n",
        "  dW2 = 1 / m * dZ2.dot(A1.T)\n",
        "  db2 = 1 / m * np.sum(dZ2)\n",
        "  dZ1 = W2.T.dot(dZ2) * deriv_ReLU(Z1)\n",
        "  dW1 = 1 / m * dZ1.dot(X.T)\n",
        "  db1 = 1 / m * np.sum(dZ1)\n",
        "\n",
        "  return dW1, db1, dW2, db2\n",
        "\n",
        "def update_params(W1, b1, W2, b2, dW1, db1, dW2, db2, alpha):\n",
        "  W1 = W1 - alpha * dW1\n",
        "  b1 = b1 - alpha * db1\n",
        "  W2 = W2 - alpha * dW2\n",
        "  b2 = b2 - alpha * db2\n",
        "\n",
        "  return W1, b1, W2, b2\n",
        "\n",
        "def get_predictions(A2):\n",
        "  return np.argmax(A2,0)\n",
        "\n",
        "def get_accuracy(predictions, Y):\n",
        "  print(predictions, Y)\n",
        "  return np.sum(predictions == Y ) / Y.size\n",
        "\n",
        "def gradient_descent(X, Y, iterations, alpha):\n",
        "  W1, b1, W2, b2 = init_params()\n",
        "  for i in range(iterations):\n",
        "    Z1, A1, Z2, A2 = forward_prop(W1, b1, W2, b2, X)\n",
        "    dW1, db1, dW2, db2 = back_prop(Z1,A1,Z2,A2,W2,X,Y)\n",
        "    W1, b1, W2, b2 = update_params(W1, b1, W2, b2, dW1, db1, dW2, db2, alpha)\n",
        "    if (i % 10 == 0):\n",
        "      print(\"Iteration: \", i)\n",
        "      print(\"Accuracy: \", get_accuracy(get_predictions(A2), Y ))\n",
        "  \n",
        "  return W1, b1, W2, b2"
      ],
      "metadata": {
        "id": "2rGIIowHpseq"
      },
      "execution_count": null,
      "outputs": []
    },
    {
      "cell_type": "code",
      "source": [
        "W1, b1, W2, b2 = gradient_descent(X_Train, Y_Train, 500, 0.1)"
      ],
      "metadata": {
        "colab": {
          "base_uri": "https://localhost:8080/"
        },
        "id": "ebd5FvNx9UsV",
        "outputId": "0d673f7c-948e-4b91-fb51-15b9a69611c5"
      },
      "execution_count": null,
      "outputs": [
        {
          "output_type": "stream",
          "name": "stdout",
          "text": [
            "Iteration:  0\n",
            "[5 5 5 ... 5 6 6] [4 9 9 ... 4 9 7]\n",
            "Accuracy:  0.08585365853658537\n",
            "Iteration:  10\n",
            "[5 7 7 ... 5 0 7] [4 9 9 ... 4 9 7]\n",
            "Accuracy:  0.19607317073170732\n",
            "Iteration:  20\n",
            "[4 7 2 ... 4 0 7] [4 9 9 ... 4 9 7]\n",
            "Accuracy:  0.27090243902439026\n",
            "Iteration:  30\n",
            "[4 7 2 ... 4 7 7] [4 9 9 ... 4 9 7]\n",
            "Accuracy:  0.3353658536585366\n",
            "Iteration:  40\n",
            "[4 4 2 ... 4 7 7] [4 9 9 ... 4 9 7]\n",
            "Accuracy:  0.3961219512195122\n",
            "Iteration:  50\n",
            "[4 4 2 ... 4 7 7] [4 9 9 ... 4 9 7]\n",
            "Accuracy:  0.45758536585365855\n",
            "Iteration:  60\n",
            "[4 4 2 ... 4 7 7] [4 9 9 ... 4 9 7]\n",
            "Accuracy:  0.5178780487804878\n",
            "Iteration:  70\n",
            "[4 4 2 ... 4 7 7] [4 9 9 ... 4 9 7]\n",
            "Accuracy:  0.5648536585365853\n",
            "Iteration:  80\n",
            "[6 4 2 ... 4 7 7] [4 9 9 ... 4 9 7]\n",
            "Accuracy:  0.6020243902439024\n",
            "Iteration:  90\n",
            "[6 4 9 ... 4 7 7] [4 9 9 ... 4 9 7]\n",
            "Accuracy:  0.6316341463414634\n",
            "Iteration:  100\n",
            "[6 4 9 ... 4 7 7] [4 9 9 ... 4 9 7]\n",
            "Accuracy:  0.6559024390243903\n",
            "Iteration:  110\n",
            "[6 4 9 ... 4 9 7] [4 9 9 ... 4 9 7]\n",
            "Accuracy:  0.6785365853658537\n",
            "Iteration:  120\n",
            "[6 4 9 ... 4 9 7] [4 9 9 ... 4 9 7]\n",
            "Accuracy:  0.6976585365853658\n",
            "Iteration:  130\n",
            "[6 4 9 ... 4 9 7] [4 9 9 ... 4 9 7]\n",
            "Accuracy:  0.7134390243902439\n",
            "Iteration:  140\n",
            "[6 4 9 ... 4 9 7] [4 9 9 ... 4 9 7]\n",
            "Accuracy:  0.7267073170731707\n",
            "Iteration:  150\n",
            "[6 4 9 ... 4 9 7] [4 9 9 ... 4 9 7]\n",
            "Accuracy:  0.7377560975609756\n",
            "Iteration:  160\n",
            "[6 4 9 ... 4 9 7] [4 9 9 ... 4 9 7]\n",
            "Accuracy:  0.748219512195122\n",
            "Iteration:  170\n",
            "[6 4 9 ... 4 9 7] [4 9 9 ... 4 9 7]\n",
            "Accuracy:  0.7587073170731707\n",
            "Iteration:  180\n",
            "[4 4 9 ... 4 9 7] [4 9 9 ... 4 9 7]\n",
            "Accuracy:  0.766609756097561\n",
            "Iteration:  190\n",
            "[4 4 9 ... 4 9 7] [4 9 9 ... 4 9 7]\n",
            "Accuracy:  0.7732926829268293\n",
            "Iteration:  200\n",
            "[4 4 9 ... 4 9 7] [4 9 9 ... 4 9 7]\n",
            "Accuracy:  0.7799512195121951\n",
            "Iteration:  210\n",
            "[4 4 9 ... 4 9 7] [4 9 9 ... 4 9 7]\n",
            "Accuracy:  0.7861219512195122\n",
            "Iteration:  220\n",
            "[4 4 9 ... 4 9 7] [4 9 9 ... 4 9 7]\n",
            "Accuracy:  0.7916341463414635\n",
            "Iteration:  230\n",
            "[4 4 9 ... 4 9 7] [4 9 9 ... 4 9 7]\n",
            "Accuracy:  0.7969512195121952\n",
            "Iteration:  240\n",
            "[4 4 9 ... 4 9 7] [4 9 9 ... 4 9 7]\n",
            "Accuracy:  0.8018048780487805\n",
            "Iteration:  250\n",
            "[4 4 9 ... 4 9 7] [4 9 9 ... 4 9 7]\n",
            "Accuracy:  0.8067560975609757\n",
            "Iteration:  260\n",
            "[4 4 9 ... 4 9 7] [4 9 9 ... 4 9 7]\n",
            "Accuracy:  0.8104146341463415\n",
            "Iteration:  270\n",
            "[4 4 9 ... 4 9 7] [4 9 9 ... 4 9 7]\n",
            "Accuracy:  0.8146585365853658\n",
            "Iteration:  280\n",
            "[4 4 9 ... 4 9 7] [4 9 9 ... 4 9 7]\n",
            "Accuracy:  0.8180243902439024\n",
            "Iteration:  290\n",
            "[4 4 9 ... 4 9 7] [4 9 9 ... 4 9 7]\n",
            "Accuracy:  0.8212926829268292\n",
            "Iteration:  300\n",
            "[4 4 9 ... 4 9 7] [4 9 9 ... 4 9 7]\n",
            "Accuracy:  0.823560975609756\n",
            "Iteration:  310\n",
            "[4 4 9 ... 4 9 7] [4 9 9 ... 4 9 7]\n",
            "Accuracy:  0.8266829268292682\n",
            "Iteration:  320\n",
            "[4 4 9 ... 4 9 7] [4 9 9 ... 4 9 7]\n",
            "Accuracy:  0.8295609756097561\n",
            "Iteration:  330\n",
            "[4 4 9 ... 4 9 7] [4 9 9 ... 4 9 7]\n",
            "Accuracy:  0.8320243902439024\n",
            "Iteration:  340\n",
            "[4 4 9 ... 4 9 7] [4 9 9 ... 4 9 7]\n",
            "Accuracy:  0.8347073170731707\n",
            "Iteration:  350\n",
            "[4 4 9 ... 4 9 7] [4 9 9 ... 4 9 7]\n",
            "Accuracy:  0.8370243902439024\n",
            "Iteration:  360\n",
            "[4 4 9 ... 4 9 7] [4 9 9 ... 4 9 7]\n",
            "Accuracy:  0.839170731707317\n",
            "Iteration:  370\n",
            "[4 4 9 ... 4 9 7] [4 9 9 ... 4 9 7]\n",
            "Accuracy:  0.8414634146341463\n",
            "Iteration:  380\n",
            "[4 4 9 ... 4 9 7] [4 9 9 ... 4 9 7]\n",
            "Accuracy:  0.8430487804878048\n",
            "Iteration:  390\n",
            "[4 4 9 ... 4 9 7] [4 9 9 ... 4 9 7]\n",
            "Accuracy:  0.8450487804878049\n",
            "Iteration:  400\n",
            "[4 4 9 ... 4 9 7] [4 9 9 ... 4 9 7]\n",
            "Accuracy:  0.8466585365853658\n",
            "Iteration:  410\n",
            "[4 4 9 ... 4 9 7] [4 9 9 ... 4 9 7]\n",
            "Accuracy:  0.8485365853658536\n",
            "Iteration:  420\n",
            "[4 4 9 ... 4 9 7] [4 9 9 ... 4 9 7]\n",
            "Accuracy:  0.8503170731707317\n",
            "Iteration:  430\n",
            "[4 4 9 ... 4 9 7] [4 9 9 ... 4 9 7]\n",
            "Accuracy:  0.8512682926829268\n",
            "Iteration:  440\n",
            "[4 4 9 ... 4 9 7] [4 9 9 ... 4 9 7]\n",
            "Accuracy:  0.8527560975609756\n",
            "Iteration:  450\n",
            "[4 4 9 ... 4 9 7] [4 9 9 ... 4 9 7]\n",
            "Accuracy:  0.8540487804878049\n",
            "Iteration:  460\n",
            "[4 4 9 ... 4 9 7] [4 9 9 ... 4 9 7]\n",
            "Accuracy:  0.8553658536585366\n",
            "Iteration:  470\n",
            "[4 4 9 ... 4 9 7] [4 9 9 ... 4 9 7]\n",
            "Accuracy:  0.8567317073170732\n",
            "Iteration:  480\n",
            "[4 4 9 ... 4 9 7] [4 9 9 ... 4 9 7]\n",
            "Accuracy:  0.8577317073170732\n",
            "Iteration:  490\n",
            "[4 4 9 ... 4 9 7] [4 9 9 ... 4 9 7]\n",
            "Accuracy:  0.8589512195121951\n"
          ]
        }
      ]
    },
    {
      "cell_type": "code",
      "source": [
        "def make_predictions(X, W1, b1, W2, b2):\n",
        "    _, _, _, A2 = forward_prop(W1, b1, W2, b2, X)\n",
        "    predictions = get_predictions(A2)\n",
        "    return predictions\n",
        "\n",
        "def test_prediction(index, W1, b1, W2, b2):\n",
        "    current_image = X_Train[:, index, None]\n",
        "    prediction = make_predictions(X_Train[:, index, None], W1, b1, W2, b2)\n",
        "    label = Y_Train[index]\n",
        "    print(\"Prediction: \", prediction)\n",
        "    print(\"Label: \", label)\n",
        "    \n",
        "    current_image = current_image.reshape((28, 28)) * 255\n",
        "    plt.gray()\n",
        "    plt.imshow(current_image, interpolation='nearest')\n",
        "    plt.show()"
      ],
      "metadata": {
        "id": "qgSkborRH_3-"
      },
      "execution_count": null,
      "outputs": []
    },
    {
      "cell_type": "code",
      "source": [
        "test_prediction(0, W1, b1, W2, b2)\n",
        "test_prediction(1, W1, b1, W2, b2)\n",
        "test_prediction(2, W1, b1, W2, b2)\n",
        "test_prediction(3, W1, b1, W2, b2)"
      ],
      "metadata": {
        "colab": {
          "base_uri": "https://localhost:8080/",
          "height": 1000
        },
        "id": "CbbqsuK2IFCg",
        "outputId": "1ad1dd23-4af8-47a6-8315-5a6c7d53621b"
      },
      "execution_count": null,
      "outputs": [
        {
          "output_type": "stream",
          "name": "stdout",
          "text": [
            "Prediction:  [4]\n",
            "Label:  4\n"
          ]
        },
        {
          "output_type": "display_data",
          "data": {
            "text/plain": [
              "<Figure size 432x288 with 1 Axes>"
            ],
            "image/png": "[encoded data removed]"
          },
          "metadata": {
            "needs_background": "light"
          }
        },
        {
          "output_type": "stream",
          "name": "stdout",
          "text": [
            "Prediction:  [4]\n",
            "Label:  9\n"
          ]
        },
        {
          "output_type": "display_data",
          "data": {
            "text/plain": [
              "<Figure size 432x288 with 1 Axes>"
            ],
            "image/png": "[encoded data removed]"
          },
          "metadata": {
            "needs_background": "light"
          }
        },
        {
          "output_type": "stream",
          "name": "stdout",
          "text": [
            "Prediction:  [9]\n",
            "Label:  9\n"
          ]
        },
        {
          "output_type": "display_data",
          "data": {
            "text/plain": [
              "<Figure size 432x288 with 1 Axes>"
            ],
            "image/png": "[encoded data removed]"
          },
          "metadata": {
            "needs_background": "light"
          }
        },
        {
          "output_type": "stream",
          "name": "stdout",
          "text": [
            "Prediction:  [5]\n",
            "Label:  5\n"
          ]
        },
        {
          "output_type": "display_data",
          "data": {
            "text/plain": [
              "<Figure size 432x288 with 1 Axes>"
            ],
            "image/png": "[encoded data removed]"
          },
          "metadata": {
            "needs_background": "light"
          }
        }
      ]
    },
    {
      "cell_type": "markdown",
      "source": [
        "This is a simple neural network which is guided through Samson Zhang from youtube and whole work is his and this is for understanding the hello world of AI."
      ],
      "metadata": {
        "id": "8qpAXWqjIjBT"
      }
    }
  ]
}