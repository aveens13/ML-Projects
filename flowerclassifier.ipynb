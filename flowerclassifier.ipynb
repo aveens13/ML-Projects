{
  "nbformat": 4,
  "nbformat_minor": 0,
  "metadata": {
    "colab": {
      "name": "Untitled0.ipynb",
      "provenance": [],
      "authorship_tag": "ABX9TyOuTc1Pgbptdp8TZ+dmjye1"
    },
    "kernelspec": {
      "name": "python3",
      "display_name": "Python 3"
    },
    "language_info": {
      "name": "python"
    }
  },
  "cells": [
    {
      "cell_type": "code",
      "metadata": {
        "id": "ZnTob2U9cuCT"
      },
      "source": [
        "%tensorflow_version 2.x \n"
      ],
      "execution_count": 1,
      "outputs": []
    },
    {
      "cell_type": "code",
      "metadata": {
        "id": "ZHQ3oxE6c1rC"
      },
      "source": [
        "import tensorflow as tf\n",
        "import pandas as pd"
      ],
      "execution_count": 2,
      "outputs": []
    },
    {
      "cell_type": "code",
      "metadata": {
        "id": "DcoSi0Tkc-yG"
      },
      "source": [
        "CSV_COLUMN_NAMES = ['SepalLength', 'SepalWidth', 'PetalLength', 'PetalWidth', 'Species']\n",
        "SPECIES = ['Setosa', 'Versicolor', 'Virginica']\n"
      ],
      "execution_count": 3,
      "outputs": []
    },
    {
      "cell_type": "code",
      "metadata": {
        "id": "ZlInAK4VdTe4",
        "colab": {
          "base_uri": "https://localhost:8080/"
        },
        "outputId": "22a9fc39-d626-49e3-c622-8528eb7d7b4c"
      },
      "source": [
        "train_path = tf.keras.utils.get_file(\n",
        "    \"iris_training.csv\", \"https://storage.googleapis.com/download.tensorflow.org/data/iris_training.csv\")\n",
        "test_path = tf.keras.utils.get_file(\n",
        "    \"iris_test.csv\", \"https://storage.googleapis.com/download.tensorflow.org/data/iris_test.csv\")\n",
        "train = pd.read_csv(train_path, names=CSV_COLUMN_NAMES, header=0)\n",
        "test = pd.read_csv(test_path, names=CSV_COLUMN_NAMES, header=0)\n"
      ],
      "execution_count": 4,
      "outputs": [
        {
          "output_type": "stream",
          "name": "stdout",
          "text": [
            "Downloading data from https://storage.googleapis.com/download.tensorflow.org/data/iris_training.csv\n",
            "16384/2194 [================================================================================================================================================================================================================================] - 0s 0us/step\n",
            "Downloading data from https://storage.googleapis.com/download.tensorflow.org/data/iris_test.csv\n",
            "16384/573 [=========================================================================================================================================================================================================================================================================================================================================================================================================================================================================================================================================================================================================================================================================================================================================================================================================================================================================================] - 0s 0us/step\n"
          ]
        }
      ]
    },
    {
      "cell_type": "code",
      "metadata": {
        "id": "fP_nlslke4U8"
      },
      "source": [
        "train_y = train.pop('Species')\n",
        "test_y = test.pop('Species')"
      ],
      "execution_count": 5,
      "outputs": []
    },
    {
      "cell_type": "code",
      "metadata": {
        "id": "G7EaKSq6ef5w"
      },
      "source": [
        "def input_fn(features, labels, training=True, batch_size=256):\n",
        "\n",
        "    dataset = tf.data.Dataset.from_tensor_slices((dict(features), labels))\n",
        "\n",
        "\n",
        "    if training:\n",
        "        dataset = dataset.shuffle(1000).repeat()\n",
        "    \n",
        "    return dataset.batch(batch_size)\n"
      ],
      "execution_count": 6,
      "outputs": []
    },
    {
      "cell_type": "code",
      "metadata": {
        "id": "Bb1RrkiMfGhh"
      },
      "source": [
        "my_feature_columns = []\n",
        "for key in train.keys():\n",
        "    my_feature_columns.append(tf.feature_column.numeric_column(key=key))"
      ],
      "execution_count": 7,
      "outputs": []
    },
    {
      "cell_type": "code",
      "metadata": {
        "id": "n7YVQowgiDak",
        "colab": {
          "base_uri": "https://localhost:8080/"
        },
        "outputId": "31517cc1-88cc-4cb1-8cec-2a994dcb0731"
      },
      "source": [
        "\n",
        "classifier = tf.estimator.DNNClassifier(\n",
        "    feature_columns=my_feature_columns,hidden_units=[30, 10],n_classes=3)"
      ],
      "execution_count": 8,
      "outputs": [
        {
          "output_type": "stream",
          "name": "stdout",
          "text": [
            "INFO:tensorflow:Using default config.\n",
            "WARNING:tensorflow:Using temporary folder as model directory: /tmp/tmpjshff0v0\n",
            "INFO:tensorflow:Using config: {'_model_dir': '/tmp/tmpjshff0v0', '_tf_random_seed': None, '_save_summary_steps': 100, '_save_checkpoints_steps': None, '_save_checkpoints_secs': 600, '_session_config': allow_soft_placement: true\n",
            "graph_options {\n",
            "  rewrite_options {\n",
            "    meta_optimizer_iterations: ONE\n",
            "  }\n",
            "}\n",
            ", '_keep_checkpoint_max': 5, '_keep_checkpoint_every_n_hours': 10000, '_log_step_count_steps': 100, '_train_distribute': None, '_device_fn': None, '_protocol': None, '_eval_distribute': None, '_experimental_distribute': None, '_experimental_max_worker_delay_secs': None, '_session_creation_timeout_secs': 7200, '_checkpoint_save_graph_def': True, '_service': None, '_cluster_spec': ClusterSpec({}), '_task_type': 'worker', '_task_id': 0, '_global_id_in_cluster': 0, '_master': '', '_evaluation_master': '', '_is_chief': True, '_num_ps_replicas': 0, '_num_worker_replicas': 1}\n"
          ]
        }
      ]
    },
    {
      "cell_type": "code",
      "metadata": {
        "id": "INug63pCjaOw",
        "colab": {
          "base_uri": "https://localhost:8080/"
        },
        "outputId": "a3cecd27-fb99-4bd0-f57e-547dae7c4d23"
      },
      "source": [
        "classifier.train(\n",
        "    input_fn=lambda: input_fn(train, train_y, training=True),\n",
        "    steps=5000)"
      ],
      "execution_count": 9,
      "outputs": [
        {
          "output_type": "stream",
          "name": "stdout",
          "text": [
            "WARNING:tensorflow:From /usr/local/lib/python3.7/dist-packages/tensorflow/python/training/training_util.py:236: Variable.initialized_value (from tensorflow.python.ops.variables) is deprecated and will be removed in a future version.\n",
            "Instructions for updating:\n",
            "Use Variable.read_value. Variables in 2.X are initialized automatically both in eager and graph (inside tf.defun) contexts.\n",
            "INFO:tensorflow:Calling model_fn.\n",
            "WARNING:tensorflow:From /usr/local/lib/python3.7/dist-packages/keras/optimizer_v2/adagrad.py:84: calling Constant.__init__ (from tensorflow.python.ops.init_ops) with dtype is deprecated and will be removed in a future version.\n",
            "Instructions for updating:\n",
            "Call initializer instance with the dtype argument instead of passing it to the constructor\n",
            "INFO:tensorflow:Done calling model_fn.\n",
            "INFO:tensorflow:Create CheckpointSaverHook.\n",
            "INFO:tensorflow:Graph was finalized.\n",
            "INFO:tensorflow:Running local_init_op.\n",
            "INFO:tensorflow:Done running local_init_op.\n",
            "INFO:tensorflow:Calling checkpoint listeners before saving checkpoint 0...\n",
            "INFO:tensorflow:Saving checkpoints for 0 into /tmp/tmpjshff0v0/model.ckpt.\n",
            "INFO:tensorflow:Calling checkpoint listeners after saving checkpoint 0...\n",
            "INFO:tensorflow:loss = 2.765459, step = 0\n",
            "INFO:tensorflow:global_step/sec: 421.13\n",
            "INFO:tensorflow:loss = 1.5742064, step = 100 (0.239 sec)\n",
            "INFO:tensorflow:global_step/sec: 507.681\n",
            "INFO:tensorflow:loss = 1.3688664, step = 200 (0.200 sec)\n",
            "INFO:tensorflow:global_step/sec: 501.624\n",
            "INFO:tensorflow:loss = 1.1267618, step = 300 (0.203 sec)\n",
            "INFO:tensorflow:global_step/sec: 499.547\n",
            "INFO:tensorflow:loss = 1.0604594, step = 400 (0.197 sec)\n",
            "INFO:tensorflow:global_step/sec: 513.24\n",
            "INFO:tensorflow:loss = 0.9079437, step = 500 (0.192 sec)\n",
            "INFO:tensorflow:global_step/sec: 508.904\n",
            "INFO:tensorflow:loss = 0.8537126, step = 600 (0.199 sec)\n",
            "INFO:tensorflow:global_step/sec: 524.85\n",
            "INFO:tensorflow:loss = 0.8212056, step = 700 (0.191 sec)\n",
            "INFO:tensorflow:global_step/sec: 495.63\n",
            "INFO:tensorflow:loss = 0.7845899, step = 800 (0.203 sec)\n",
            "INFO:tensorflow:global_step/sec: 480.681\n",
            "INFO:tensorflow:loss = 0.7222278, step = 900 (0.209 sec)\n",
            "INFO:tensorflow:global_step/sec: 485.78\n",
            "INFO:tensorflow:loss = 0.6937009, step = 1000 (0.205 sec)\n",
            "INFO:tensorflow:global_step/sec: 505.494\n",
            "INFO:tensorflow:loss = 0.66931343, step = 1100 (0.198 sec)\n",
            "INFO:tensorflow:global_step/sec: 505.91\n",
            "INFO:tensorflow:loss = 0.640717, step = 1200 (0.198 sec)\n",
            "INFO:tensorflow:global_step/sec: 538.691\n",
            "INFO:tensorflow:loss = 0.6508869, step = 1300 (0.186 sec)\n",
            "INFO:tensorflow:global_step/sec: 519.929\n",
            "INFO:tensorflow:loss = 0.61744076, step = 1400 (0.192 sec)\n",
            "INFO:tensorflow:global_step/sec: 486.231\n",
            "INFO:tensorflow:loss = 0.59288824, step = 1500 (0.206 sec)\n",
            "INFO:tensorflow:global_step/sec: 492.862\n",
            "INFO:tensorflow:loss = 0.58466274, step = 1600 (0.203 sec)\n",
            "INFO:tensorflow:global_step/sec: 519.76\n",
            "INFO:tensorflow:loss = 0.5844046, step = 1700 (0.192 sec)\n",
            "INFO:tensorflow:global_step/sec: 527.16\n",
            "INFO:tensorflow:loss = 0.56349427, step = 1800 (0.191 sec)\n",
            "INFO:tensorflow:global_step/sec: 533.768\n",
            "INFO:tensorflow:loss = 0.5748241, step = 1900 (0.183 sec)\n",
            "INFO:tensorflow:global_step/sec: 521.668\n",
            "INFO:tensorflow:loss = 0.5439469, step = 2000 (0.194 sec)\n",
            "INFO:tensorflow:global_step/sec: 518.266\n",
            "INFO:tensorflow:loss = 0.5366847, step = 2100 (0.191 sec)\n",
            "INFO:tensorflow:global_step/sec: 489.153\n",
            "INFO:tensorflow:loss = 0.5355557, step = 2200 (0.205 sec)\n",
            "INFO:tensorflow:global_step/sec: 523.705\n",
            "INFO:tensorflow:loss = 0.514058, step = 2300 (0.193 sec)\n",
            "INFO:tensorflow:global_step/sec: 542.771\n",
            "INFO:tensorflow:loss = 0.5118387, step = 2400 (0.181 sec)\n",
            "INFO:tensorflow:global_step/sec: 522.685\n",
            "INFO:tensorflow:loss = 0.52011716, step = 2500 (0.192 sec)\n",
            "INFO:tensorflow:global_step/sec: 520.534\n",
            "INFO:tensorflow:loss = 0.49981263, step = 2600 (0.195 sec)\n",
            "INFO:tensorflow:global_step/sec: 486.797\n",
            "INFO:tensorflow:loss = 0.49964854, step = 2700 (0.203 sec)\n",
            "INFO:tensorflow:global_step/sec: 460.852\n",
            "INFO:tensorflow:loss = 0.49222326, step = 2800 (0.219 sec)\n",
            "INFO:tensorflow:global_step/sec: 508.153\n",
            "INFO:tensorflow:loss = 0.48858768, step = 2900 (0.195 sec)\n",
            "INFO:tensorflow:global_step/sec: 538.994\n",
            "INFO:tensorflow:loss = 0.47605252, step = 3000 (0.188 sec)\n",
            "INFO:tensorflow:global_step/sec: 527.538\n",
            "INFO:tensorflow:loss = 0.48762703, step = 3100 (0.190 sec)\n",
            "INFO:tensorflow:global_step/sec: 511.122\n",
            "INFO:tensorflow:loss = 0.49250668, step = 3200 (0.195 sec)\n",
            "INFO:tensorflow:global_step/sec: 538.9\n",
            "INFO:tensorflow:loss = 0.46437466, step = 3300 (0.185 sec)\n",
            "INFO:tensorflow:global_step/sec: 526.146\n",
            "INFO:tensorflow:loss = 0.47376323, step = 3400 (0.190 sec)\n",
            "INFO:tensorflow:global_step/sec: 545.595\n",
            "INFO:tensorflow:loss = 0.4621476, step = 3500 (0.181 sec)\n",
            "INFO:tensorflow:global_step/sec: 551.595\n",
            "INFO:tensorflow:loss = 0.4703288, step = 3600 (0.184 sec)\n",
            "INFO:tensorflow:global_step/sec: 505.369\n",
            "INFO:tensorflow:loss = 0.45240176, step = 3700 (0.198 sec)\n",
            "INFO:tensorflow:global_step/sec: 545.867\n",
            "INFO:tensorflow:loss = 0.44409484, step = 3800 (0.184 sec)\n",
            "INFO:tensorflow:global_step/sec: 541.862\n",
            "INFO:tensorflow:loss = 0.44867432, step = 3900 (0.181 sec)\n",
            "INFO:tensorflow:global_step/sec: 531.486\n",
            "INFO:tensorflow:loss = 0.44231552, step = 4000 (0.191 sec)\n",
            "INFO:tensorflow:global_step/sec: 527.592\n",
            "INFO:tensorflow:loss = 0.4438797, step = 4100 (0.187 sec)\n",
            "INFO:tensorflow:global_step/sec: 534.374\n",
            "INFO:tensorflow:loss = 0.44220972, step = 4200 (0.187 sec)\n",
            "INFO:tensorflow:global_step/sec: 510.252\n",
            "INFO:tensorflow:loss = 0.44775274, step = 4300 (0.199 sec)\n",
            "INFO:tensorflow:global_step/sec: 491.351\n",
            "INFO:tensorflow:loss = 0.43755305, step = 4400 (0.201 sec)\n",
            "INFO:tensorflow:global_step/sec: 532.811\n",
            "INFO:tensorflow:loss = 0.4312598, step = 4500 (0.188 sec)\n",
            "INFO:tensorflow:global_step/sec: 535.505\n",
            "INFO:tensorflow:loss = 0.4227418, step = 4600 (0.187 sec)\n",
            "INFO:tensorflow:global_step/sec: 549.09\n",
            "INFO:tensorflow:loss = 0.4270674, step = 4700 (0.187 sec)\n",
            "INFO:tensorflow:global_step/sec: 506.214\n",
            "INFO:tensorflow:loss = 0.42786556, step = 4800 (0.195 sec)\n",
            "INFO:tensorflow:global_step/sec: 519.321\n",
            "INFO:tensorflow:loss = 0.43610132, step = 4900 (0.193 sec)\n",
            "INFO:tensorflow:Calling checkpoint listeners before saving checkpoint 5000...\n",
            "INFO:tensorflow:Saving checkpoints for 5000 into /tmp/tmpjshff0v0/model.ckpt.\n",
            "INFO:tensorflow:Calling checkpoint listeners after saving checkpoint 5000...\n",
            "INFO:tensorflow:Loss for final step: 0.43131486.\n"
          ]
        },
        {
          "output_type": "execute_result",
          "data": {
            "text/plain": [
              "<tensorflow_estimator.python.estimator.canned.dnn.DNNClassifierV2 at 0x7f962c9caf90>"
            ]
          },
          "metadata": {},
          "execution_count": 9
        }
      ]
    },
    {
      "cell_type": "code",
      "metadata": {
        "id": "23rIrgbxkJUO",
        "colab": {
          "base_uri": "https://localhost:8080/"
        },
        "outputId": "4a94a6c4-c9ef-4866-b67a-56c552b84f64"
      },
      "source": [
        "eval_result = classifier.evaluate(\n",
        "    input_fn=lambda: input_fn(test, test_y, training=False))\n",
        "\n",
        "print('\\nTest set accuracy: {accuracy:0.3f}\\n'.format(**eval_result))"
      ],
      "execution_count": 10,
      "outputs": [
        {
          "output_type": "stream",
          "name": "stdout",
          "text": [
            "INFO:tensorflow:Calling model_fn.\n",
            "INFO:tensorflow:Done calling model_fn.\n",
            "INFO:tensorflow:Starting evaluation at 2021-10-31T06:55:52\n",
            "INFO:tensorflow:Graph was finalized.\n",
            "INFO:tensorflow:Restoring parameters from /tmp/tmpjshff0v0/model.ckpt-5000\n",
            "INFO:tensorflow:Running local_init_op.\n",
            "INFO:tensorflow:Done running local_init_op.\n",
            "INFO:tensorflow:Inference Time : 0.27308s\n",
            "INFO:tensorflow:Finished evaluation at 2021-10-31-06:55:53\n",
            "INFO:tensorflow:Saving dict for global step 5000: accuracy = 0.7, average_loss = 0.5108074, global_step = 5000, loss = 0.5108074\n",
            "INFO:tensorflow:Saving 'checkpoint_path' summary for global step 5000: /tmp/tmpjshff0v0/model.ckpt-5000\n",
            "\n",
            "Test set accuracy: 0.700\n",
            "\n"
          ]
        }
      ]
    },
    {
      "cell_type": "code",
      "metadata": {
        "colab": {
          "base_uri": "https://localhost:8080/"
        },
        "id": "bw3kajl0gbdR",
        "outputId": "fda6cb14-7948-4a8a-d2ee-a3354061fdc4"
      },
      "source": [
        "def input_fn(features, batch_size=256):\n",
        "    # Convert the inputs to a Dataset without labels.\n",
        "    return tf.data.Dataset.from_tensor_slices(dict(features)).batch(batch_size)\n",
        "\n",
        "features = ['SepalLength', 'SepalWidth', 'PetalLength', 'PetalWidth']\n",
        "predict = {}\n",
        "\n",
        "print(\"Please type numeric values as prompted.\")\n",
        "for feature in features:\n",
        "  valid = True\n",
        "  while valid: \n",
        "    val = input(feature + \": \")\n",
        "    if not val.isdigit(): valid = False\n",
        "\n",
        "  predict[feature] = [float(val)]\n",
        "\n",
        "predictions = classifier.predict(input_fn=lambda: input_fn(predict))\n",
        "for pred_dict in predictions:\n",
        "    class_id = pred_dict['class_ids'][0]\n",
        "    probability = pred_dict['probabilities'][class_id]\n",
        "\n",
        "    print('Prediction is \"{}\" ({:.1f}%)'.format(\n",
        "        SPECIES[class_id], 100 * probability))"
      ],
      "execution_count": 11,
      "outputs": [
        {
          "output_type": "stream",
          "name": "stdout",
          "text": [
            "Please type numeric values as prompted.\n",
            "SepalLength: 2\n",
            "SepalLength: 2\n",
            "SepalLength: 1\n",
            "SepalLength: 1\n",
            "SepalLength: 1\n",
            "SepalLength: 1\n",
            "SepalLength: 0.1\n",
            "SepalWidth: 0.5\n",
            "PetalLength: 1.4\n",
            "PetalWidth: 1.6\n",
            "INFO:tensorflow:Calling model_fn.\n",
            "INFO:tensorflow:Done calling model_fn.\n",
            "INFO:tensorflow:Graph was finalized.\n",
            "INFO:tensorflow:Restoring parameters from /tmp/tmpjshff0v0/model.ckpt-5000\n",
            "INFO:tensorflow:Running local_init_op.\n",
            "INFO:tensorflow:Done running local_init_op.\n",
            "Prediction is \"Virginica\" (48.2%)\n"
          ]
        }
      ]
    }
  ]
}