{
  "nbformat": 4,
  "nbformat_minor": 0,
  "metadata": {
    "colab": {
      "name": "ml.ipynb",
      "provenance": [],
      "authorship_tag": "ABX9TyOeYQmnhrd/YR5BsdwMCaNx"
    },
    "kernelspec": {
      "display_name": "Python 3",
      "name": "python3"
    },
    "language_info": {
      "name": "python"
    }
  },
  "cells": [
    {
      "cell_type": "code",
      "metadata": {
        "id": "T2tpkMTKtwPI"
      },
      "source": [
        "import tensorflow as tf\n",
        "import numpy as np\n",
        "import pandas as pd\n",
        "from tensorflow import keras"
      ],
      "execution_count": null,
      "outputs": []
    },
    {
      "cell_type": "code",
      "metadata": {
        "colab": {
          "base_uri": "https://localhost:8080/"
        },
        "id": "F_Ksf9z4t-6h",
        "outputId": "7543f7ef-6429-4333-cd5e-8dce57153662"
      },
      "source": [
        "imdb=keras.datasets.imdb\n",
        "(training_data, training_label),(testing_data,testing_label)= imdb.load_data(num_words=10000)"
      ],
      "execution_count": null,
      "outputs": [
        {
          "output_type": "stream",
          "text": [
            "Downloading data from https://storage.googleapis.com/tensorflow/tf-keras-datasets/imdb.npz\n",
            "17465344/17464789 [==============================] - 0s 0us/step\n"
          ],
          "name": "stdout"
        },
        {
          "output_type": "stream",
          "text": [
            "<string>:6: VisibleDeprecationWarning: Creating an ndarray from ragged nested sequences (which is a list-or-tuple of lists-or-tuples-or ndarrays with different lengths or shapes) is deprecated. If you meant to do this, you must specify 'dtype=object' when creating the ndarray\n",
            "/usr/local/lib/python3.7/dist-packages/tensorflow/python/keras/datasets/imdb.py:155: VisibleDeprecationWarning: Creating an ndarray from ragged nested sequences (which is a list-or-tuple of lists-or-tuples-or ndarrays with different lengths or shapes) is deprecated. If you meant to do this, you must specify 'dtype=object' when creating the ndarray\n",
            "  x_train, y_train = np.array(xs[:idx]), np.array(labels[:idx])\n",
            "/usr/local/lib/python3.7/dist-packages/tensorflow/python/keras/datasets/imdb.py:156: VisibleDeprecationWarning: Creating an ndarray from ragged nested sequences (which is a list-or-tuple of lists-or-tuples-or ndarrays with different lengths or shapes) is deprecated. If you meant to do this, you must specify 'dtype=object' when creating the ndarray\n",
            "  x_test, y_test = np.array(xs[idx:]), np.array(labels[idx:])\n"
          ],
          "name": "stderr"
        }
      ]
    },
    {
      "cell_type": "code",
      "metadata": {
        "colab": {
          "base_uri": "https://localhost:8080/"
        },
        "id": "JHP4__S2uuBW",
        "outputId": "e41c8b81-cb7c-419a-d780-8a5e620c3fd6"
      },
      "source": [
        "print(\"Training Data: {}\\nLabels={}\".format(len(training_data),len(training_label)))"
      ],
      "execution_count": null,
      "outputs": [
        {
          "output_type": "stream",
          "text": [
            "Training Data: 25000\n",
            "Labels=25000\n"
          ],
          "name": "stdout"
        }
      ]
    },
    {
      "cell_type": "code",
      "metadata": {
        "colab": {
          "base_uri": "https://localhost:8080/"
        },
        "id": "DVuxlG0SvLP-",
        "outputId": "99c00abd-a1a2-4f72-cc04-b08b90e391cb"
      },
      "source": [
        "print(training_data[0])"
      ],
      "execution_count": null,
      "outputs": [
        {
          "output_type": "stream",
          "text": [
            "[1, 14, 22, 16, 43, 530, 973, 1622, 1385, 65, 458, 4468, 66, 3941, 4, 173, 36, 256, 5, 25, 100, 43, 838, 112, 50, 670, 2, 9, 35, 480, 284, 5, 150, 4, 172, 112, 167, 2, 336, 385, 39, 4, 172, 4536, 1111, 17, 546, 38, 13, 447, 4, 192, 50, 16, 6, 147, 2025, 19, 14, 22, 4, 1920, 4613, 469, 4, 22, 71, 87, 12, 16, 43, 530, 38, 76, 15, 13, 1247, 4, 22, 17, 515, 17, 12, 16, 626, 18, 2, 5, 62, 386, 12, 8, 316, 8, 106, 5, 4, 2223, 5244, 16, 480, 66, 3785, 33, 4, 130, 12, 16, 38, 619, 5, 25, 124, 51, 36, 135, 48, 25, 1415, 33, 6, 22, 12, 215, 28, 77, 52, 5, 14, 407, 16, 82, 2, 8, 4, 107, 117, 5952, 15, 256, 4, 2, 7, 3766, 5, 723, 36, 71, 43, 530, 476, 26, 400, 317, 46, 7, 4, 2, 1029, 13, 104, 88, 4, 381, 15, 297, 98, 32, 2071, 56, 26, 141, 6, 194, 7486, 18, 4, 226, 22, 21, 134, 476, 26, 480, 5, 144, 30, 5535, 18, 51, 36, 28, 224, 92, 25, 104, 4, 226, 65, 16, 38, 1334, 88, 12, 16, 283, 5, 16, 4472, 113, 103, 32, 15, 16, 5345, 19, 178, 32]\n"
          ],
          "name": "stdout"
        }
      ]
    },
    {
      "cell_type": "code",
      "metadata": {
        "id": "0jwhhLqNvxXm"
      },
      "source": [
        "training_data=keras.preprocessing.sequence.pad_sequences(training_data, padding='post', maxlen=256)\n",
        "testing_data=keras.preprocessing.sequence.pad_sequences(testing_data, padding='post', maxlen=256)"
      ],
      "execution_count": null,
      "outputs": []
    },
    {
      "cell_type": "code",
      "metadata": {
        "colab": {
          "base_uri": "https://localhost:8080/"
        },
        "id": "j5sDpww4wyFi",
        "outputId": "8578b021-38ae-43e2-d094-da828c19bcf6"
      },
      "source": [
        "len(training_data[0]), len(testing_data[0])"
      ],
      "execution_count": null,
      "outputs": [
        {
          "output_type": "execute_result",
          "data": {
            "text/plain": [
              "(256, 256)"
            ]
          },
          "metadata": {
            "tags": []
          },
          "execution_count": 7
        }
      ]
    },
    {
      "cell_type": "code",
      "metadata": {
        "colab": {
          "base_uri": "https://localhost:8080/"
        },
        "id": "e3gzDRgmxB5Q",
        "outputId": "78ae4413-237d-49d4-85b9-3a74a5e0ad5b"
      },
      "source": [
        "print(training_data[0])"
      ],
      "execution_count": null,
      "outputs": [
        {
          "output_type": "stream",
          "text": [
            "[   1   14   22   16   43  530  973 1622 1385   65  458 4468   66 3941\n",
            "    4  173   36  256    5   25  100   43  838  112   50  670    2    9\n",
            "   35  480  284    5  150    4  172  112  167    2  336  385   39    4\n",
            "  172 4536 1111   17  546   38   13  447    4  192   50   16    6  147\n",
            " 2025   19   14   22    4 1920 4613  469    4   22   71   87   12   16\n",
            "   43  530   38   76   15   13 1247    4   22   17  515   17   12   16\n",
            "  626   18    2    5   62  386   12    8  316    8  106    5    4 2223\n",
            " 5244   16  480   66 3785   33    4  130   12   16   38  619    5   25\n",
            "  124   51   36  135   48   25 1415   33    6   22   12  215   28   77\n",
            "   52    5   14  407   16   82    2    8    4  107  117 5952   15  256\n",
            "    4    2    7 3766    5  723   36   71   43  530  476   26  400  317\n",
            "   46    7    4    2 1029   13  104   88    4  381   15  297   98   32\n",
            " 2071   56   26  141    6  194 7486   18    4  226   22   21  134  476\n",
            "   26  480    5  144   30 5535   18   51   36   28  224   92   25  104\n",
            "    4  226   65   16   38 1334   88   12   16  283    5   16 4472  113\n",
            "  103   32   15   16 5345   19  178   32    0    0    0    0    0    0\n",
            "    0    0    0    0    0    0    0    0    0    0    0    0    0    0\n",
            "    0    0    0    0    0    0    0    0    0    0    0    0    0    0\n",
            "    0    0    0    0]\n"
          ],
          "name": "stdout"
        }
      ]
    },
    {
      "cell_type": "code",
      "metadata": {
        "colab": {
          "base_uri": "https://localhost:8080/"
        },
        "id": "Qh759ACAx9iA",
        "outputId": "7c07c223-3c6a-4ebf-d9e4-e9338443b02b"
      },
      "source": [
        "vocab_size=10000\n",
        "model = keras.Sequential([\n",
        "                          keras.layers.Embedding(vocab_size,16),\n",
        "                          keras.layers.GlobalAveragePooling1D(),\n",
        "                          keras.layers.Dense(16, activation='relu'),\n",
        "                          keras.layers.Dense(1, activation='sigmoid')\n",
        "])\n",
        "model.summary()"
      ],
      "execution_count": null,
      "outputs": [
        {
          "output_type": "stream",
          "text": [
            "Model: \"sequential\"\n",
            "_________________________________________________________________\n",
            "Layer (type)                 Output Shape              Param #   \n",
            "=================================================================\n",
            "embedding (Embedding)        (None, None, 16)          160000    \n",
            "_________________________________________________________________\n",
            "global_average_pooling1d (Gl (None, 16)                0         \n",
            "_________________________________________________________________\n",
            "dense (Dense)                (None, 16)                272       \n",
            "_________________________________________________________________\n",
            "dense_1 (Dense)              (None, 1)                 17        \n",
            "=================================================================\n",
            "Total params: 160,289\n",
            "Trainable params: 160,289\n",
            "Non-trainable params: 0\n",
            "_________________________________________________________________\n"
          ],
          "name": "stdout"
        }
      ]
    },
    {
      "cell_type": "code",
      "metadata": {
        "id": "b_CUpPbTypus"
      },
      "source": [
        "model.compile(optimizer='adam', loss='binary_crossentropy', metrics=['accuracy'])"
      ],
      "execution_count": null,
      "outputs": []
    },
    {
      "cell_type": "code",
      "metadata": {
        "id": "TwYEJKuqy0kP"
      },
      "source": [
        "x_val=training_data[:10000]\n",
        "x_train=training_data[10000:]\n",
        "\n",
        "y_val= training_label[:10000]\n",
        "y_train= training_label[10000:]"
      ],
      "execution_count": null,
      "outputs": []
    },
    {
      "cell_type": "code",
      "metadata": {
        "colab": {
          "base_uri": "https://localhost:8080/"
        },
        "id": "dRDvmHRhzshN",
        "outputId": "4304f955-c6d7-4ace-ea97-8e0fb3671a47"
      },
      "source": [
        "history= model.fit(x_train, y_train, epochs=20, batch_size=512, validation_data=(x_val,y_val), verbose=1)"
      ],
      "execution_count": null,
      "outputs": [
        {
          "output_type": "stream",
          "text": [
            "Epoch 1/20\n",
            "30/30 [==============================] - 1s 19ms/step - loss: 0.6919 - accuracy: 0.5184 - val_loss: 0.6899 - val_accuracy: 0.5537\n",
            "Epoch 2/20\n",
            "30/30 [==============================] - 0s 15ms/step - loss: 0.6860 - accuracy: 0.6037 - val_loss: 0.6822 - val_accuracy: 0.6486\n",
            "Epoch 3/20\n",
            "30/30 [==============================] - 0s 15ms/step - loss: 0.6742 - accuracy: 0.6955 - val_loss: 0.6678 - val_accuracy: 0.7189\n",
            "Epoch 4/20\n",
            "30/30 [==============================] - 0s 15ms/step - loss: 0.6539 - accuracy: 0.7552 - val_loss: 0.6455 - val_accuracy: 0.7318\n",
            "Epoch 5/20\n",
            "30/30 [==============================] - 0s 15ms/step - loss: 0.6243 - accuracy: 0.7773 - val_loss: 0.6135 - val_accuracy: 0.7802\n",
            "Epoch 6/20\n",
            "30/30 [==============================] - 0s 15ms/step - loss: 0.5859 - accuracy: 0.8049 - val_loss: 0.5755 - val_accuracy: 0.8025\n",
            "Epoch 7/20\n",
            "30/30 [==============================] - 0s 17ms/step - loss: 0.5421 - accuracy: 0.8250 - val_loss: 0.5347 - val_accuracy: 0.8190\n",
            "Epoch 8/20\n",
            "30/30 [==============================] - 0s 15ms/step - loss: 0.4973 - accuracy: 0.8436 - val_loss: 0.4950 - val_accuracy: 0.8303\n",
            "Epoch 9/20\n",
            "30/30 [==============================] - 0s 16ms/step - loss: 0.4537 - accuracy: 0.8595 - val_loss: 0.4579 - val_accuracy: 0.8416\n",
            "Epoch 10/20\n",
            "30/30 [==============================] - 0s 14ms/step - loss: 0.4149 - accuracy: 0.8707 - val_loss: 0.4263 - val_accuracy: 0.8486\n",
            "Epoch 11/20\n",
            "30/30 [==============================] - 0s 15ms/step - loss: 0.3811 - accuracy: 0.8779 - val_loss: 0.4004 - val_accuracy: 0.8543\n",
            "Epoch 12/20\n",
            "30/30 [==============================] - 0s 14ms/step - loss: 0.3518 - accuracy: 0.8871 - val_loss: 0.3780 - val_accuracy: 0.8622\n",
            "Epoch 13/20\n",
            "30/30 [==============================] - 0s 15ms/step - loss: 0.3270 - accuracy: 0.8929 - val_loss: 0.3607 - val_accuracy: 0.8664\n",
            "Epoch 14/20\n",
            "30/30 [==============================] - 0s 16ms/step - loss: 0.3062 - accuracy: 0.8987 - val_loss: 0.3461 - val_accuracy: 0.8705\n",
            "Epoch 15/20\n",
            "30/30 [==============================] - 0s 15ms/step - loss: 0.2877 - accuracy: 0.9028 - val_loss: 0.3344 - val_accuracy: 0.8736\n",
            "Epoch 16/20\n",
            "30/30 [==============================] - 0s 15ms/step - loss: 0.2713 - accuracy: 0.9083 - val_loss: 0.3243 - val_accuracy: 0.8756\n",
            "Epoch 17/20\n",
            "30/30 [==============================] - 0s 15ms/step - loss: 0.2569 - accuracy: 0.9135 - val_loss: 0.3167 - val_accuracy: 0.8777\n",
            "Epoch 18/20\n",
            "30/30 [==============================] - 1s 17ms/step - loss: 0.2441 - accuracy: 0.9174 - val_loss: 0.3111 - val_accuracy: 0.8777\n",
            "Epoch 19/20\n",
            "30/30 [==============================] - 0s 16ms/step - loss: 0.2324 - accuracy: 0.9221 - val_loss: 0.3048 - val_accuracy: 0.8816\n",
            "Epoch 20/20\n",
            "30/30 [==============================] - 0s 15ms/step - loss: 0.2221 - accuracy: 0.9239 - val_loss: 0.2998 - val_accuracy: 0.8819\n"
          ],
          "name": "stdout"
        }
      ]
    },
    {
      "cell_type": "code",
      "metadata": {
        "colab": {
          "base_uri": "https://localhost:8080/"
        },
        "id": "_mYjZgSx0cJ2",
        "outputId": "576303e0-e6bc-4092-a1f0-62fbe09b54b0"
      },
      "source": [
        "model.evaluate(testing_data[0])"
      ],
      "execution_count": null,
      "outputs": [
        {
          "output_type": "stream",
          "text": [
            "8/8 [==============================] - 0s 2ms/step - loss: 0.0000e+00 - accuracy: 0.0000e+00\n"
          ],
          "name": "stdout"
        },
        {
          "output_type": "execute_result",
          "data": {
            "text/plain": [
              "[0.0, 0.0]"
            ]
          },
          "metadata": {
            "tags": []
          },
          "execution_count": 13
        }
      ]
    }
  ]
}