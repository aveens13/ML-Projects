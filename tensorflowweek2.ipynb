{
  "nbformat": 4,
  "nbformat_minor": 0,
  "metadata": {
    "colab": {
      "name": "tensorflowweek2.ipynb",
      "provenance": [],
      "authorship_tag": "ABX9TyMear+fJmVAFSoobpvoDiRz"
    },
    "kernelspec": {
      "name": "python3",
      "display_name": "Python 3"
    },
    "language_info": {
      "name": "python"
    }
  },
  "cells": [
    {
      "cell_type": "code",
      "metadata": {
        "id": "fUvrXEZNOhpi",
        "colab": {
          "base_uri": "https://localhost:8080/"
        },
        "outputId": "d79d528e-7b04-4267-a8af-982f89dd039b"
      },
      "source": [
        "%tensorflow_version 1.x"
      ],
      "execution_count": null,
      "outputs": [
        {
          "output_type": "stream",
          "text": [
            "TensorFlow 1.x selected.\n"
          ],
          "name": "stdout"
        }
      ]
    },
    {
      "cell_type": "code",
      "metadata": {
        "id": "29jebJo5Ormq"
      },
      "source": [
        "import tensorflow as tf\n",
        "import numpy as np\n",
        "from os import path, getcwd, chdir\n",
        "import matplotlib.pyplot as plt\n",
        "from tensorflow import keras\n",
        "path = f\"{getcwd()}/../tmp2/mnist.npz\""
      ],
      "execution_count": null,
      "outputs": []
    },
    {
      "cell_type": "code",
      "metadata": {
        "id": "tw89k_S7O5Oj"
      },
      "source": [
        "class myCallback(tf.keras.callbacks.Callback):\n",
        "    def on_epoch_end(self, epoch, logs={}):\n",
        "      if(logs.get('loss')<0.3):\n",
        "        print(\"\\nReached 99% accuracy so cancelling training!\")\n",
        "        self.model.stop_training = True\n",
        "      \n",
        "   "
      ],
      "execution_count": null,
      "outputs": []
    },
    {
      "cell_type": "code",
      "metadata": {
        "colab": {
          "base_uri": "https://localhost:8080/"
        },
        "id": "vR6eJwY3GYaT",
        "outputId": "768551b1-ac9d-4a58-e231-3dfefbde43a0"
      },
      "source": [
        "callbacks=myCallback()\n",
        "mnist = keras.datasets.mnist\n",
        "(x_train,y_train),(x_test,y_test) = mnist.load_data()\n",
        "\n"
      ],
      "execution_count": null,
      "outputs": [
        {
          "output_type": "stream",
          "text": [
            "Downloading data from https://storage.googleapis.com/tensorflow/tf-keras-datasets/mnist.npz\n",
            "11493376/11490434 [==============================] - 0s 0us/step\n"
          ],
          "name": "stdout"
        }
      ]
    },
    {
      "cell_type": "code",
      "metadata": {
        "id": "S9vwNnhSHUAq",
        "colab": {
          "base_uri": "https://localhost:8080/",
          "height": 1000
        },
        "outputId": "45a413c3-700a-46bc-c1ad-fdfde2a205f7"
      },
      "source": [
        "plt.imshow(x_test[10])\n",
        "plt.colorbar()\n",
        "print(x_test[10])\n",
        "print(y_test[10])"
      ],
      "execution_count": null,
      "outputs": [
        {
          "output_type": "stream",
          "text": [
            "[[  0   0   0   0   0   0   0   0   0   0   0   0   0   0   0   0   0   0\n",
            "    0   0   0   0   0   0   0   0   0   0]\n",
            " [  0   0   0   0   0   0   0   0   0   0   0   0   0   0   0   0   0   0\n",
            "    0   0   0   0   0   0   0   0   0   0]\n",
            " [  0   0   0   0   0   0   0   0   0   0   0   0   0   0   0   0   0   0\n",
            "    0   0   0   0   0   0   0   0   0   0]\n",
            " [  0   0   0   0   0   0   0   0   0   0   0   0   0   0   0   0   0   0\n",
            "    0   0   0   0   0   0   0   0   0   0]\n",
            " [  0   0   0   0   0   0   0   0   0   0   0  61   3  42 118 193 118 118\n",
            "   61   0   0   0   0   0   0   0   0   0]\n",
            " [  0   0   0   0   0   0   0   0   0  14 179 245 236 242 254 254 254 254\n",
            "  245 235  84   0   0   0   0   0   0   0]\n",
            " [  0   0   0   0   0   0   0   0   0 151 254 254 254 213 192 178 178 180\n",
            "  254 254 241  46   0   0   0   0   0   0]\n",
            " [  0   0   0   0   0   0   0   0  43 235 254 226  64  28  12   0   0   2\n",
            "  128 252 255 173  17   0   0   0   0   0]\n",
            " [  0   0   0   0   0   0   0   0  56 254 253 107   0   0   0   0   0   0\n",
            "    0 134 250 254  75   0   0   0   0   0]\n",
            " [  0   0   0   0   0   0   0   0  63 254 158   0   0   0   0   0   0   0\n",
            "    0   0 221 254 157   0   0   0   0   0]\n",
            " [  0   0   0   0   0   0   0   0 194 254 103   0   0   0   0   0   0   0\n",
            "    0   0 150 254 213   0   0   0   0   0]\n",
            " [  0   0   0   0   0   0   0  34 220 239  58   0   0   0   0   0   0   0\n",
            "    0   0  84 254 213   0   0   0   0   0]\n",
            " [  0   0   0   0   0   0   0 126 254 171   0   0   0   0   0   0   0   0\n",
            "    0   0  84 254 213   0   0   0   0   0]\n",
            " [  0   0   0   0   0   0   0 214 239  60   0   0   0   0   0   0   0   0\n",
            "    0   0  84 254 213   0   0   0   0   0]\n",
            " [  0   0   0   0   0   0   0 214 199   0   0   0   0   0   0   0   0   0\n",
            "    0   0  84 254 213   0   0   0   0   0]\n",
            " [  0   0   0   0   0   0  11 219 199   0   0   0   0   0   0   0   0   0\n",
            "    0   0  84 254 213   0   0   0   0   0]\n",
            " [  0   0   0   0   0   0  98 254 199   0   0   0   0   0   0   0   0   0\n",
            "    0   0 162 254 209   0   0   0   0   0]\n",
            " [  0   0   0   0   0   0  98 254 199   0   0   0   0   0   0   0   0   0\n",
            "    0  51 238 254  75   0   0   0   0   0]\n",
            " [  0   0   0   0   0   0  98 254 199   0   0   0   0   0   0   0   0   0\n",
            "   51 165 254 195   4   0   0   0   0   0]\n",
            " [  0   0   0   0   0   0  66 241 199   0   0   0   0   0   0   0   0   3\n",
            "  167 254 227  55   0   0   0   0   0   0]\n",
            " [  0   0   0   0   0   0   0 214 213  20   0   0   0   0   0  46 152 202\n",
            "  254 254  63   0   0   0   0   0   0   0]\n",
            " [  0   0   0   0   0   0   0 214 254 204 180 180 180 180 180 235 254 254\n",
            "  234 156  10   0   0   0   0   0   0   0]\n",
            " [  0   0   0   0   0   0   0  81 205 254 254 254 254 254 254 254 252 234\n",
            "  120   0   0   0   0   0   0   0   0   0]\n",
            " [  0   0   0   0   0   0   0   0  26 210 254 254 254 254 254 153 104   0\n",
            "    0   0   0   0   0   0   0   0   0   0]\n",
            " [  0   0   0   0   0   0   0   0   0   0   0   0   0   0   0   0   0   0\n",
            "    0   0   0   0   0   0   0   0   0   0]\n",
            " [  0   0   0   0   0   0   0   0   0   0   0   0   0   0   0   0   0   0\n",
            "    0   0   0   0   0   0   0   0   0   0]\n",
            " [  0   0   0   0   0   0   0   0   0   0   0   0   0   0   0   0   0   0\n",
            "    0   0   0   0   0   0   0   0   0   0]\n",
            " [  0   0   0   0   0   0   0   0   0   0   0   0   0   0   0   0   0   0\n",
            "    0   0   0   0   0   0   0   0   0   0]]\n",
            "0\n"
          ],
          "name": "stdout"
        },
        {
          "output_type": "display_data",
          "data": {
            "image/png": "[encoded data removed]",
            "text/plain": [
              "<Figure size 432x288 with 2 Axes>"
            ]
          },
          "metadata": {
            "tags": [],
            "needs_background": "light"
          }
        }
      ]
    },
    {
      "cell_type": "code",
      "metadata": {
        "id": "Z5pB6r8AM5Bj"
      },
      "source": [
        "x_train= x_train/255.0\n",
        "x_test=x_test/255.0\n"
      ],
      "execution_count": null,
      "outputs": []
    },
    {
      "cell_type": "code",
      "metadata": {
        "id": "TnhG03BHNFg0"
      },
      "source": [
        "model = keras.Sequential([keras.layers.Flatten(),\n",
        "keras.layers.Dense(128, activation=tf.nn.relu),\n",
        "keras.layers.Dense(64, activation=tf.nn.relu),\n",
        "keras.layers.Dense(10, activation=tf.nn.softmax)]\n",
        " \n",
        " )"
      ],
      "execution_count": null,
      "outputs": []
    },
    {
      "cell_type": "code",
      "metadata": {
        "colab": {
          "base_uri": "https://localhost:8080/"
        },
        "id": "k1FOTSrjNIfR",
        "outputId": "01734133-9ed1-49ee-8c10-c6cce0524d45"
      },
      "source": [
        "model.compile(optimizer='adam', loss= 'sparse_categorical_crossentropy', metrics=['accuracy'])\n",
        "model.fit(x_train, y_train, epochs=10, callbacks=[callbacks])"
      ],
      "execution_count": null,
      "outputs": [
        {
          "output_type": "stream",
          "text": [
            "WARNING:tensorflow:From /tensorflow-1.15.2/python3.7/tensorflow_core/python/ops/resource_variable_ops.py:1630: calling BaseResourceVariable.__init__ (from tensorflow.python.ops.resource_variable_ops) with constraint is deprecated and will be removed in a future version.\n",
            "Instructions for updating:\n",
            "If using Keras pass *_constraint arguments to layers.\n",
            "Train on 60000 samples\n",
            "Epoch 1/10\n",
            "59872/60000 [============================>.] - ETA: 0s - loss: 0.2431 - acc: 0.9289\n",
            "Reached 99% accuracy so cancelling training!\n",
            "60000/60000 [==============================] - 5s 77us/sample - loss: 0.2429 - acc: 0.9290\n"
          ],
          "name": "stdout"
        },
        {
          "output_type": "execute_result",
          "data": {
            "text/plain": [
              "<tensorflow.python.keras.callbacks.History at 0x7f2292172590>"
            ]
          },
          "metadata": {
            "tags": []
          },
          "execution_count": 8
        }
      ]
    },
    {
      "cell_type": "code",
      "metadata": {
        "colab": {
          "base_uri": "https://localhost:8080/"
        },
        "id": "sjibEhYANq8J",
        "outputId": "51dffc6b-6e8c-4f16-a255-90c9c610ad07"
      },
      "source": [
        "model.evaluate(x_test, y_test)"
      ],
      "execution_count": null,
      "outputs": [
        {
          "output_type": "stream",
          "text": [
            "10000/10000 [==============================] - 0s 30us/sample - loss: 0.1204 - acc: 0.9604\n"
          ],
          "name": "stdout"
        },
        {
          "output_type": "execute_result",
          "data": {
            "text/plain": [
              "[0.12042287539839745, 0.9604]"
            ]
          },
          "metadata": {
            "tags": []
          },
          "execution_count": 9
        }
      ]
    },
    {
      "cell_type": "code",
      "metadata": {
        "colab": {
          "base_uri": "https://localhost:8080/"
        },
        "id": "IuRCZJQ8N4ey",
        "outputId": "2bc0ca9b-aa2e-43de-ec98-f7e2194cf3bd"
      },
      "source": [
        "classifications =  model.predict(x_test)\n",
        "print(classifications[10])\n",
        "print(y_test[10])"
      ],
      "execution_count": null,
      "outputs": [
        {
          "output_type": "stream",
          "text": [
            "[9.97696817e-01 2.26992433e-05 9.79653560e-04 7.17816329e-06\n",
            " 1.48940117e-05 6.94687551e-05 1.21109115e-04 8.06214848e-06\n",
            " 4.91164101e-04 5.89002739e-04]\n",
            "0\n"
          ],
          "name": "stdout"
        }
      ]
    }
  ]
}